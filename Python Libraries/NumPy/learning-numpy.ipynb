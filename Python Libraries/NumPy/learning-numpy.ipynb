{
 "cells": [
  {
   "cell_type": "code",
   "execution_count": 1,
   "metadata": {
    "_cell_guid": "b1076dfc-b9ad-4769-8c92-a6c4dae69d19",
    "_uuid": "8f2839f25d086af736a60e9eeb907d3b93b6e0e5",
    "execution": {
     "iopub.execute_input": "2022-07-30T07:40:03.587445Z",
     "iopub.status.busy": "2022-07-30T07:40:03.587050Z",
     "iopub.status.idle": "2022-07-30T07:40:03.596873Z",
     "shell.execute_reply": "2022-07-30T07:40:03.595797Z",
     "shell.execute_reply.started": "2022-07-30T07:40:03.587414Z"
    }
   },
   "outputs": [],
   "source": [
    "# This Python 3 environment comes with many helpful analytics libraries installed\n",
    "# It is defined by the kaggle/python Docker image: https://github.com/kaggle/docker-python\n",
    "# For example, here's several helpful packages to load\n",
    "\n",
    "import numpy as np # linear algebra\n",
    "import pandas as pd # data processing, CSV file I/O (e.g. pd.read_csv)\n",
    "\n",
    "# Input data files are available in the read-only \"../input/\" directory\n",
    "# For example, running this (by clicking run or pressing Shift+Enter) will list all files under the input directory\n",
    "\n",
    "import os\n",
    "for dirname, _, filenames in os.walk('/kaggle/input'):\n",
    "    for filename in filenames:\n",
    "        print(os.path.join(dirname, filename))\n",
    "\n",
    "# You can write up to 20GB to the current directory (/kaggle/working/) that gets preserved as output when you create a version using \"Save & Run All\" \n",
    "# You can also write temporary files to /kaggle/temp/, but they won't be saved outside of the current session"
   ]
  },
  {
   "cell_type": "code",
   "execution_count": 2,
   "metadata": {
    "execution": {
     "iopub.execute_input": "2022-07-30T07:40:03.602096Z",
     "iopub.status.busy": "2022-07-30T07:40:03.601576Z",
     "iopub.status.idle": "2022-07-30T07:40:03.607164Z",
     "shell.execute_reply": "2022-07-30T07:40:03.605912Z",
     "shell.execute_reply.started": "2022-07-30T07:40:03.602048Z"
    }
   },
   "outputs": [],
   "source": [
    "num_list = [1,2,3,4,5,6,7,8,9,10]"
   ]
  },
  {
   "cell_type": "code",
   "execution_count": 3,
   "metadata": {
    "execution": {
     "iopub.execute_input": "2022-07-30T07:40:03.610037Z",
     "iopub.status.busy": "2022-07-30T07:40:03.609306Z",
     "iopub.status.idle": "2022-07-30T07:40:05.642960Z",
     "shell.execute_reply": "2022-07-30T07:40:05.641652Z",
     "shell.execute_reply.started": "2022-07-30T07:40:03.609990Z"
    }
   },
   "outputs": [
    {
     "name": "stdout",
     "output_type": "stream",
     "text": [
      "6.22 µs ± 41.7 ns per loop (mean ± std. dev. of 7 runs, 100,000 loops each)\n"
     ]
    }
   ],
   "source": [
    "%timeit [i ** 2 for i in num_list]"
   ]
  },
  {
   "cell_type": "code",
   "execution_count": 4,
   "metadata": {
    "execution": {
     "iopub.execute_input": "2022-07-30T07:40:05.645767Z",
     "iopub.status.busy": "2022-07-30T07:40:05.645080Z",
     "iopub.status.idle": "2022-07-30T07:40:05.651295Z",
     "shell.execute_reply": "2022-07-30T07:40:05.650086Z",
     "shell.execute_reply.started": "2022-07-30T07:40:05.645702Z"
    }
   },
   "outputs": [],
   "source": [
    "arr = np.array(num_list)"
   ]
  },
  {
   "cell_type": "code",
   "execution_count": 5,
   "metadata": {
    "execution": {
     "iopub.execute_input": "2022-07-30T07:40:05.653054Z",
     "iopub.status.busy": "2022-07-30T07:40:05.652698Z",
     "iopub.status.idle": "2022-07-30T07:40:12.043667Z",
     "shell.execute_reply": "2022-07-30T07:40:12.042286Z",
     "shell.execute_reply.started": "2022-07-30T07:40:05.653023Z"
    }
   },
   "outputs": [
    {
     "name": "stdout",
     "output_type": "stream",
     "text": [
      "1.5 µs ± 15.1 ns per loop (mean ± std. dev. of 7 runs, 1,000,000 loops each)\n"
     ]
    }
   ],
   "source": [
    "%timeit arr ** 2 # takes comparatively less time that a list operation"
   ]
  },
  {
   "cell_type": "code",
   "execution_count": 6,
   "metadata": {
    "execution": {
     "iopub.execute_input": "2022-07-30T07:40:12.047682Z",
     "iopub.status.busy": "2022-07-30T07:40:12.046735Z",
     "iopub.status.idle": "2022-07-30T07:40:12.052387Z",
     "shell.execute_reply": "2022-07-30T07:40:12.051033Z",
     "shell.execute_reply.started": "2022-07-30T07:40:12.047629Z"
    }
   },
   "outputs": [],
   "source": [
    "# num_list + 1 # trying to add 1 to every element "
   ]
  },
  {
   "cell_type": "code",
   "execution_count": 7,
   "metadata": {
    "execution": {
     "iopub.execute_input": "2022-07-30T07:40:12.054877Z",
     "iopub.status.busy": "2022-07-30T07:40:12.054253Z",
     "iopub.status.idle": "2022-07-30T07:40:12.067555Z",
     "shell.execute_reply": "2022-07-30T07:40:12.066697Z",
     "shell.execute_reply.started": "2022-07-30T07:40:12.054800Z"
    }
   },
   "outputs": [
    {
     "data": {
      "text/plain": [
       "array([ 2,  3,  4,  5,  6,  7,  8,  9, 10, 11])"
      ]
     },
     "execution_count": 7,
     "metadata": {},
     "output_type": "execute_result"
    }
   ],
   "source": [
    "arr + 1 # possible with numpy after converting it to an array"
   ]
  },
  {
   "cell_type": "code",
   "execution_count": 8,
   "metadata": {
    "execution": {
     "iopub.execute_input": "2022-07-30T07:40:12.070078Z",
     "iopub.status.busy": "2022-07-30T07:40:12.069393Z",
     "iopub.status.idle": "2022-07-30T07:40:12.077705Z",
     "shell.execute_reply": "2022-07-30T07:40:12.076704Z",
     "shell.execute_reply.started": "2022-07-30T07:40:12.070041Z"
    }
   },
   "outputs": [
    {
     "data": {
      "text/plain": [
       "numpy.ndarray"
      ]
     },
     "execution_count": 8,
     "metadata": {},
     "output_type": "execute_result"
    }
   ],
   "source": [
    "type(arr) # ndarray because it generalises the n dimensional array"
   ]
  },
  {
   "cell_type": "code",
   "execution_count": 9,
   "metadata": {
    "execution": {
     "iopub.execute_input": "2022-07-30T07:40:12.080107Z",
     "iopub.status.busy": "2022-07-30T07:40:12.079469Z",
     "iopub.status.idle": "2022-07-30T07:40:12.088591Z",
     "shell.execute_reply": "2022-07-30T07:40:12.087763Z",
     "shell.execute_reply.started": "2022-07-30T07:40:12.080064Z"
    }
   },
   "outputs": [
    {
     "name": "stdout",
     "output_type": "stream",
     "text": [
      "1\n",
      "(10,)\n"
     ]
    }
   ],
   "source": [
    "print(arr.ndim) # prints the dimension of the array\n",
    "print(arr.shape) # prints the number of elements in the array"
   ]
  },
  {
   "cell_type": "code",
   "execution_count": 10,
   "metadata": {
    "execution": {
     "iopub.execute_input": "2022-07-30T07:40:12.091184Z",
     "iopub.status.busy": "2022-07-30T07:40:12.090515Z",
     "iopub.status.idle": "2022-07-30T07:40:12.099902Z",
     "shell.execute_reply": "2022-07-30T07:40:12.098840Z",
     "shell.execute_reply.started": "2022-07-30T07:40:12.091141Z"
    }
   },
   "outputs": [
    {
     "data": {
      "text/plain": [
       "array([2, 3, 4, 5, 6, 7, 8, 9])"
      ]
     },
     "execution_count": 10,
     "metadata": {},
     "output_type": "execute_result"
    }
   ],
   "source": [
    "np.arange(2,10) \n",
    "# be careful it's arange and not arrange - single n\n",
    "# prints numbers from (first index to last index -1)"
   ]
  },
  {
   "cell_type": "code",
   "execution_count": 11,
   "metadata": {
    "execution": {
     "iopub.execute_input": "2022-07-30T07:40:12.102692Z",
     "iopub.status.busy": "2022-07-30T07:40:12.101558Z",
     "iopub.status.idle": "2022-07-30T07:40:12.109249Z",
     "shell.execute_reply": "2022-07-30T07:40:12.108208Z",
     "shell.execute_reply.started": "2022-07-30T07:40:12.102629Z"
    }
   },
   "outputs": [
    {
     "name": "stdout",
     "output_type": "stream",
     "text": [
      "[[1 2 3]\n",
      " [4 5 6]\n",
      " [7 8 9]]\n"
     ]
    }
   ],
   "source": [
    "array_2d = np.array([[1,2,3], [4,5,6], [7,8,9]])\n",
    "print (array_2d)"
   ]
  },
  {
   "cell_type": "code",
   "execution_count": 12,
   "metadata": {
    "execution": {
     "iopub.execute_input": "2022-07-30T07:40:12.114418Z",
     "iopub.status.busy": "2022-07-30T07:40:12.113794Z",
     "iopub.status.idle": "2022-07-30T07:40:12.120094Z",
     "shell.execute_reply": "2022-07-30T07:40:12.119148Z",
     "shell.execute_reply.started": "2022-07-30T07:40:12.114382Z"
    }
   },
   "outputs": [
    {
     "name": "stdout",
     "output_type": "stream",
     "text": [
      "2\n",
      "(3, 3)\n"
     ]
    }
   ],
   "source": [
    "print(array_2d.ndim)\n",
    "print(array_2d.shape)"
   ]
  },
  {
   "cell_type": "markdown",
   "metadata": {},
   "source": [
    "---"
   ]
  },
  {
   "cell_type": "code",
   "execution_count": 13,
   "metadata": {
    "execution": {
     "iopub.execute_input": "2022-07-30T07:40:12.122217Z",
     "iopub.status.busy": "2022-07-30T07:40:12.121608Z",
     "iopub.status.idle": "2022-07-30T07:40:12.132911Z",
     "shell.execute_reply": "2022-07-30T07:40:12.131812Z",
     "shell.execute_reply.started": "2022-07-30T07:40:12.122184Z"
    }
   },
   "outputs": [
    {
     "data": {
      "text/plain": [
       "array([[0., 0., 0., 0., 0.],\n",
       "       [0., 0., 0., 0., 0.],\n",
       "       [0., 0., 0., 0., 0.],\n",
       "       [0., 0., 0., 0., 0.],\n",
       "       [0., 0., 0., 0., 0.]])"
      ]
     },
     "execution_count": 13,
     "metadata": {},
     "output_type": "execute_result"
    }
   ],
   "source": [
    "np.zeros((5,5)) # zero matrix"
   ]
  },
  {
   "cell_type": "code",
   "execution_count": 14,
   "metadata": {
    "execution": {
     "iopub.execute_input": "2022-07-30T07:40:12.135281Z",
     "iopub.status.busy": "2022-07-30T07:40:12.134480Z",
     "iopub.status.idle": "2022-07-30T07:40:12.143894Z",
     "shell.execute_reply": "2022-07-30T07:40:12.142920Z",
     "shell.execute_reply.started": "2022-07-30T07:40:12.135246Z"
    }
   },
   "outputs": [
    {
     "data": {
      "text/plain": [
       "array([[1., 1., 1.],\n",
       "       [1., 1., 1.],\n",
       "       [1., 1., 1.]])"
      ]
     },
     "execution_count": 14,
     "metadata": {},
     "output_type": "execute_result"
    }
   ],
   "source": [
    "np.ones((3,3))"
   ]
  },
  {
   "cell_type": "code",
   "execution_count": 15,
   "metadata": {
    "execution": {
     "iopub.execute_input": "2022-07-30T07:40:12.146250Z",
     "iopub.status.busy": "2022-07-30T07:40:12.145504Z",
     "iopub.status.idle": "2022-07-30T07:40:12.156619Z",
     "shell.execute_reply": "2022-07-30T07:40:12.155422Z",
     "shell.execute_reply.started": "2022-07-30T07:40:12.146209Z"
    }
   },
   "outputs": [
    {
     "data": {
      "text/plain": [
       "array([[1, 0, 0],\n",
       "       [0, 2, 0],\n",
       "       [0, 0, 3]])"
      ]
     },
     "execution_count": 15,
     "metadata": {},
     "output_type": "execute_result"
    }
   ],
   "source": [
    "np.diag([1,2,3]) # diagonal matrix with the given elements across the diagonal"
   ]
  },
  {
   "cell_type": "code",
   "execution_count": 16,
   "metadata": {
    "execution": {
     "iopub.execute_input": "2022-07-30T07:40:12.159253Z",
     "iopub.status.busy": "2022-07-30T07:40:12.158155Z",
     "iopub.status.idle": "2022-07-30T07:40:12.170222Z",
     "shell.execute_reply": "2022-07-30T07:40:12.169087Z",
     "shell.execute_reply.started": "2022-07-30T07:40:12.159212Z"
    }
   },
   "outputs": [
    {
     "data": {
      "text/plain": [
       "array([[1., 0., 0.],\n",
       "       [0., 1., 0.],\n",
       "       [0., 0., 1.]])"
      ]
     },
     "execution_count": 16,
     "metadata": {},
     "output_type": "execute_result"
    }
   ],
   "source": [
    "np.identity(3) # identity square matrix only"
   ]
  },
  {
   "cell_type": "markdown",
   "metadata": {},
   "source": [
    "---"
   ]
  },
  {
   "cell_type": "code",
   "execution_count": 17,
   "metadata": {
    "execution": {
     "iopub.execute_input": "2022-07-30T07:40:12.174553Z",
     "iopub.status.busy": "2022-07-30T07:40:12.173666Z",
     "iopub.status.idle": "2022-07-30T07:40:12.181435Z",
     "shell.execute_reply": "2022-07-30T07:40:12.180256Z",
     "shell.execute_reply.started": "2022-07-30T07:40:12.174517Z"
    }
   },
   "outputs": [
    {
     "name": "stdout",
     "output_type": "stream",
     "text": [
      "[[15 46 28 27]\n",
      " [10 20 23 21]\n",
      " [23 35 23 10]\n",
      " [39 39 18 14]\n",
      " [44 45 11 36]]\n"
     ]
    }
   ],
   "source": [
    "array_1 = np.random.randint(10,50, (5,4))\n",
    "print (array_1)"
   ]
  },
  {
   "cell_type": "code",
   "execution_count": 18,
   "metadata": {
    "execution": {
     "iopub.execute_input": "2022-07-30T07:40:12.183848Z",
     "iopub.status.busy": "2022-07-30T07:40:12.183041Z",
     "iopub.status.idle": "2022-07-30T07:40:12.192794Z",
     "shell.execute_reply": "2022-07-30T07:40:12.191890Z",
     "shell.execute_reply.started": "2022-07-30T07:40:12.183801Z"
    }
   },
   "outputs": [
    {
     "data": {
      "text/plain": [
       "array([44, 45, 11, 36])"
      ]
     },
     "execution_count": 18,
     "metadata": {},
     "output_type": "execute_result"
    }
   ],
   "source": [
    "array_1[-1] # returns that row acc. to the index"
   ]
  },
  {
   "cell_type": "code",
   "execution_count": 19,
   "metadata": {
    "execution": {
     "iopub.execute_input": "2022-07-30T07:40:12.195122Z",
     "iopub.status.busy": "2022-07-30T07:40:12.194433Z",
     "iopub.status.idle": "2022-07-30T07:40:12.206182Z",
     "shell.execute_reply": "2022-07-30T07:40:12.205026Z",
     "shell.execute_reply.started": "2022-07-30T07:40:12.195082Z"
    }
   },
   "outputs": [
    {
     "data": {
      "text/plain": [
       "35"
      ]
     },
     "execution_count": 19,
     "metadata": {},
     "output_type": "execute_result"
    }
   ],
   "source": [
    "array_1[2,1]"
   ]
  },
  {
   "cell_type": "code",
   "execution_count": 20,
   "metadata": {
    "execution": {
     "iopub.execute_input": "2022-07-30T07:40:12.208233Z",
     "iopub.status.busy": "2022-07-30T07:40:12.207554Z",
     "iopub.status.idle": "2022-07-30T07:40:12.218441Z",
     "shell.execute_reply": "2022-07-30T07:40:12.217172Z",
     "shell.execute_reply.started": "2022-07-30T07:40:12.208182Z"
    }
   },
   "outputs": [
    {
     "data": {
      "text/plain": [
       "array([[23, 21],\n",
       "       [23, 10],\n",
       "       [18, 14]])"
      ]
     },
     "execution_count": 20,
     "metadata": {},
     "output_type": "execute_result"
    }
   ],
   "source": [
    "array_1[1:4, 2:4] # slicing\n",
    "# array_name[start_row_index: end_row_index +1 , start_col_index: end_col_index + 1]"
   ]
  },
  {
   "cell_type": "code",
   "execution_count": 21,
   "metadata": {
    "execution": {
     "iopub.execute_input": "2022-07-30T07:40:12.220860Z",
     "iopub.status.busy": "2022-07-30T07:40:12.219872Z",
     "iopub.status.idle": "2022-07-30T07:40:12.229166Z",
     "shell.execute_reply": "2022-07-30T07:40:12.228354Z",
     "shell.execute_reply.started": "2022-07-30T07:40:12.220808Z"
    }
   },
   "outputs": [
    {
     "data": {
      "text/plain": [
       "array([[23, 21],\n",
       "       [23, 10],\n",
       "       [18, 14],\n",
       "       [11, 36]])"
      ]
     },
     "execution_count": 21,
     "metadata": {},
     "output_type": "execute_result"
    }
   ],
   "source": [
    "array_1[1:, 2:] # row 1 to end, column 2 to end"
   ]
  },
  {
   "cell_type": "code",
   "execution_count": 22,
   "metadata": {
    "execution": {
     "iopub.execute_input": "2022-07-30T07:40:12.231031Z",
     "iopub.status.busy": "2022-07-30T07:40:12.230485Z",
     "iopub.status.idle": "2022-07-30T07:40:12.240490Z",
     "shell.execute_reply": "2022-07-30T07:40:12.239567Z",
     "shell.execute_reply.started": "2022-07-30T07:40:12.230999Z"
    }
   },
   "outputs": [
    {
     "name": "stdout",
     "output_type": "stream",
     "text": [
      "[[15 46 28 27]\n",
      " [10 20  0  0]\n",
      " [23 35  0  0]\n",
      " [39 39  0  0]\n",
      " [44 45  0  0]]\n"
     ]
    }
   ],
   "source": [
    "array_1[1:, 2:] = 0\n",
    "print(array_1)"
   ]
  },
  {
   "cell_type": "code",
   "execution_count": 23,
   "metadata": {
    "execution": {
     "iopub.execute_input": "2022-07-30T07:40:12.242859Z",
     "iopub.status.busy": "2022-07-30T07:40:12.241785Z",
     "iopub.status.idle": "2022-07-30T07:40:12.251214Z",
     "shell.execute_reply": "2022-07-30T07:40:12.250093Z",
     "shell.execute_reply.started": "2022-07-30T07:40:12.242822Z"
    }
   },
   "outputs": [
    {
     "name": "stdout",
     "output_type": "stream",
     "text": [
      "[[False  True  True  True]\n",
      " [False False False False]\n",
      " [False  True False False]\n",
      " [ True  True False False]\n",
      " [ True  True False False]]\n"
     ]
    }
   ],
   "source": [
    "mask = array_1 > 25 # masking\n",
    "print (mask)"
   ]
  },
  {
   "cell_type": "code",
   "execution_count": 24,
   "metadata": {
    "execution": {
     "iopub.execute_input": "2022-07-30T07:40:12.253391Z",
     "iopub.status.busy": "2022-07-30T07:40:12.252543Z",
     "iopub.status.idle": "2022-07-30T07:40:12.264084Z",
     "shell.execute_reply": "2022-07-30T07:40:12.263046Z",
     "shell.execute_reply.started": "2022-07-30T07:40:12.253347Z"
    }
   },
   "outputs": [
    {
     "data": {
      "text/plain": [
       "8"
      ]
     },
     "execution_count": 24,
     "metadata": {},
     "output_type": "execute_result"
    }
   ],
   "source": [
    "np.sum(mask) # return the sum of all the elements in the array\n",
    "# true = 1 and false = 0"
   ]
  },
  {
   "cell_type": "markdown",
   "metadata": {},
   "source": [
    "---"
   ]
  },
  {
   "cell_type": "code",
   "execution_count": 25,
   "metadata": {
    "execution": {
     "iopub.execute_input": "2022-07-30T07:40:12.266668Z",
     "iopub.status.busy": "2022-07-30T07:40:12.265741Z",
     "iopub.status.idle": "2022-07-30T07:40:12.275122Z",
     "shell.execute_reply": "2022-07-30T07:40:12.273828Z",
     "shell.execute_reply.started": "2022-07-30T07:40:12.266624Z"
    }
   },
   "outputs": [
    {
     "name": "stdout",
     "output_type": "stream",
     "text": [
      "[1 2 3 4 5]\n"
     ]
    }
   ],
   "source": [
    "a = np.array([1,2,3,4,5])\n",
    "print (a)"
   ]
  },
  {
   "cell_type": "code",
   "execution_count": 26,
   "metadata": {
    "execution": {
     "iopub.execute_input": "2022-07-30T07:40:12.278241Z",
     "iopub.status.busy": "2022-07-30T07:40:12.277317Z",
     "iopub.status.idle": "2022-07-30T07:40:12.286990Z",
     "shell.execute_reply": "2022-07-30T07:40:12.285825Z",
     "shell.execute_reply.started": "2022-07-30T07:40:12.278192Z"
    }
   },
   "outputs": [
    {
     "name": "stdout",
     "output_type": "stream",
     "text": [
      "[ 6  7  8  9 10]\n"
     ]
    }
   ],
   "source": [
    "b = np.arange(6,11)\n",
    "print (b)"
   ]
  },
  {
   "cell_type": "code",
   "execution_count": 27,
   "metadata": {
    "execution": {
     "iopub.execute_input": "2022-07-30T07:40:12.289248Z",
     "iopub.status.busy": "2022-07-30T07:40:12.288366Z",
     "iopub.status.idle": "2022-07-30T07:40:12.298257Z",
     "shell.execute_reply": "2022-07-30T07:40:12.297201Z",
     "shell.execute_reply.started": "2022-07-30T07:40:12.289202Z"
    }
   },
   "outputs": [
    {
     "data": {
      "text/plain": [
       "array([ 7,  9, 11, 13, 15])"
      ]
     },
     "execution_count": 27,
     "metadata": {},
     "output_type": "execute_result"
    }
   ],
   "source": [
    "a + b # matrix addition where final array is a[i] + b[i]\n",
    "# arrays should have same shape"
   ]
  },
  {
   "cell_type": "code",
   "execution_count": 28,
   "metadata": {
    "execution": {
     "iopub.execute_input": "2022-07-30T07:40:12.300825Z",
     "iopub.status.busy": "2022-07-30T07:40:12.299599Z",
     "iopub.status.idle": "2022-07-30T07:40:12.309482Z",
     "shell.execute_reply": "2022-07-30T07:40:12.308451Z",
     "shell.execute_reply.started": "2022-07-30T07:40:12.300739Z"
    }
   },
   "outputs": [
    {
     "data": {
      "text/plain": [
       "array([5, 5, 5, 5, 5])"
      ]
     },
     "execution_count": 28,
     "metadata": {},
     "output_type": "execute_result"
    }
   ],
   "source": [
    "b - a # matrix substraction where final array is b[i] - a[i]"
   ]
  },
  {
   "cell_type": "code",
   "execution_count": 29,
   "metadata": {
    "execution": {
     "iopub.execute_input": "2022-07-30T07:40:12.311708Z",
     "iopub.status.busy": "2022-07-30T07:40:12.310810Z",
     "iopub.status.idle": "2022-07-30T07:40:12.322367Z",
     "shell.execute_reply": "2022-07-30T07:40:12.321205Z",
     "shell.execute_reply.started": "2022-07-30T07:40:12.311666Z"
    }
   },
   "outputs": [
    {
     "data": {
      "text/plain": [
       "array([ 6, 14, 24, 36, 50])"
      ]
     },
     "execution_count": 29,
     "metadata": {},
     "output_type": "execute_result"
    }
   ],
   "source": [
    "a * b # matrix multiplication where final array is a[i] * b[i]"
   ]
  },
  {
   "cell_type": "code",
   "execution_count": 30,
   "metadata": {
    "execution": {
     "iopub.execute_input": "2022-07-30T07:40:12.332264Z",
     "iopub.status.busy": "2022-07-30T07:40:12.331509Z",
     "iopub.status.idle": "2022-07-30T07:40:12.338295Z",
     "shell.execute_reply": "2022-07-30T07:40:12.337146Z",
     "shell.execute_reply.started": "2022-07-30T07:40:12.332218Z"
    }
   },
   "outputs": [],
   "source": [
    "c = np.array([[1,2], [3,4]]) # multiplication takes place between the two corresponding cells\n",
    "d = np.array([[1,2], [3,4]]) # like result[i,j] = a[i,j] * b[i,j]"
   ]
  },
  {
   "cell_type": "code",
   "execution_count": 31,
   "metadata": {
    "execution": {
     "iopub.execute_input": "2022-07-30T07:40:12.341601Z",
     "iopub.status.busy": "2022-07-30T07:40:12.340512Z",
     "iopub.status.idle": "2022-07-30T07:40:12.354194Z",
     "shell.execute_reply": "2022-07-30T07:40:12.352206Z",
     "shell.execute_reply.started": "2022-07-30T07:40:12.341561Z"
    }
   },
   "outputs": [
    {
     "data": {
      "text/plain": [
       "array([[ 1,  4],\n",
       "       [ 9, 16]])"
      ]
     },
     "execution_count": 31,
     "metadata": {},
     "output_type": "execute_result"
    }
   ],
   "source": [
    "c * d # result[i,j] = a[i,j] * b[i,j]"
   ]
  },
  {
   "cell_type": "code",
   "execution_count": 32,
   "metadata": {
    "execution": {
     "iopub.execute_input": "2022-07-30T07:40:12.356820Z",
     "iopub.status.busy": "2022-07-30T07:40:12.355646Z",
     "iopub.status.idle": "2022-07-30T07:40:12.364466Z",
     "shell.execute_reply": "2022-07-30T07:40:12.363407Z",
     "shell.execute_reply.started": "2022-07-30T07:40:12.356769Z"
    }
   },
   "outputs": [
    {
     "data": {
      "text/plain": [
       "array([[ 7, 10],\n",
       "       [15, 22]])"
      ]
     },
     "execution_count": 32,
     "metadata": {},
     "output_type": "execute_result"
    }
   ],
   "source": [
    "np.dot(c, d) # matrix multiplication"
   ]
  },
  {
   "cell_type": "code",
   "execution_count": 33,
   "metadata": {
    "execution": {
     "iopub.execute_input": "2022-07-30T07:40:12.366713Z",
     "iopub.status.busy": "2022-07-30T07:40:12.366055Z",
     "iopub.status.idle": "2022-07-30T07:40:12.376951Z",
     "shell.execute_reply": "2022-07-30T07:40:12.375879Z",
     "shell.execute_reply.started": "2022-07-30T07:40:12.366669Z"
    }
   },
   "outputs": [
    {
     "name": "stdout",
     "output_type": "stream",
     "text": [
      "[[4 2 2 1]\n",
      " [1 1 4 2]\n",
      " [3 2 2 1]]\n",
      "[[4 4 2 1 3]\n",
      " [1 4 4 3 1]\n",
      " [2 2 1 4 2]\n",
      " [3 1 3 4 4]]\n",
      "[[25 29 21 22 22]\n",
      " [19 18 16 28 20]\n",
      " [21 25 19 21 19]]\n"
     ]
    }
   ],
   "source": [
    "arr1 = np.random.randint(1, 5, (3,4))\n",
    "arr2 = np.random.randint(1, 5, (4,5))\n",
    "print (arr1)\n",
    "print (arr2)\n",
    "print(np.dot(arr1, arr2))"
   ]
  },
  {
   "cell_type": "markdown",
   "metadata": {},
   "source": [
    "---"
   ]
  },
  {
   "cell_type": "code",
   "execution_count": 34,
   "metadata": {
    "execution": {
     "iopub.execute_input": "2022-07-30T07:40:12.379012Z",
     "iopub.status.busy": "2022-07-30T07:40:12.378582Z",
     "iopub.status.idle": "2022-07-30T07:40:12.390881Z",
     "shell.execute_reply": "2022-07-30T07:40:12.389823Z",
     "shell.execute_reply.started": "2022-07-30T07:40:12.378974Z"
    }
   },
   "outputs": [
    {
     "data": {
      "text/plain": [
       "array([ 1,  2,  3,  4,  5,  6,  7,  8,  9, 10])"
      ]
     },
     "execution_count": 34,
     "metadata": {},
     "output_type": "execute_result"
    }
   ],
   "source": [
    "arr"
   ]
  },
  {
   "cell_type": "code",
   "execution_count": 35,
   "metadata": {
    "execution": {
     "iopub.execute_input": "2022-07-30T07:40:12.393124Z",
     "iopub.status.busy": "2022-07-30T07:40:12.392450Z",
     "iopub.status.idle": "2022-07-30T07:40:12.403478Z",
     "shell.execute_reply": "2022-07-30T07:40:12.402148Z",
     "shell.execute_reply.started": "2022-07-30T07:40:12.393082Z"
    }
   },
   "outputs": [
    {
     "name": "stdout",
     "output_type": "stream",
     "text": [
      "[[ 1  2  3  4  5]\n",
      " [ 6  7  8  9 10]]\n"
     ]
    }
   ],
   "source": [
    "array_2 = arr.reshape(2,5)\n",
    "print (array_2)"
   ]
  },
  {
   "cell_type": "code",
   "execution_count": 36,
   "metadata": {
    "execution": {
     "iopub.execute_input": "2022-07-30T07:40:12.406022Z",
     "iopub.status.busy": "2022-07-30T07:40:12.405517Z",
     "iopub.status.idle": "2022-07-30T07:40:12.415182Z",
     "shell.execute_reply": "2022-07-30T07:40:12.413786Z",
     "shell.execute_reply.started": "2022-07-30T07:40:12.405981Z"
    }
   },
   "outputs": [
    {
     "data": {
      "text/plain": [
       "array([[1.        , 1.41421356, 1.73205081, 2.        , 2.23606798],\n",
       "       [2.44948974, 2.64575131, 2.82842712, 3.        , 3.16227766]])"
      ]
     },
     "execution_count": 36,
     "metadata": {},
     "output_type": "execute_result"
    }
   ],
   "source": [
    "np.sqrt(array_2)"
   ]
  },
  {
   "cell_type": "code",
   "execution_count": 37,
   "metadata": {
    "execution": {
     "iopub.execute_input": "2022-07-30T07:40:12.417369Z",
     "iopub.status.busy": "2022-07-30T07:40:12.416549Z",
     "iopub.status.idle": "2022-07-30T07:40:12.426912Z",
     "shell.execute_reply": "2022-07-30T07:40:12.425909Z",
     "shell.execute_reply.started": "2022-07-30T07:40:12.417327Z"
    }
   },
   "outputs": [
    {
     "data": {
      "text/plain": [
       "10"
      ]
     },
     "execution_count": 37,
     "metadata": {},
     "output_type": "execute_result"
    }
   ],
   "source": [
    "np.max(array_2)"
   ]
  },
  {
   "cell_type": "code",
   "execution_count": 38,
   "metadata": {
    "execution": {
     "iopub.execute_input": "2022-07-30T07:40:12.429187Z",
     "iopub.status.busy": "2022-07-30T07:40:12.428193Z",
     "iopub.status.idle": "2022-07-30T07:40:12.439052Z",
     "shell.execute_reply": "2022-07-30T07:40:12.437882Z",
     "shell.execute_reply.started": "2022-07-30T07:40:12.429146Z"
    }
   },
   "outputs": [
    {
     "data": {
      "text/plain": [
       "5.5"
      ]
     },
     "execution_count": 38,
     "metadata": {},
     "output_type": "execute_result"
    }
   ],
   "source": [
    "np.mean(array_2) # sum of all elements / the number of elements "
   ]
  },
  {
   "cell_type": "code",
   "execution_count": 39,
   "metadata": {
    "execution": {
     "iopub.execute_input": "2022-07-30T07:40:12.441318Z",
     "iopub.status.busy": "2022-07-30T07:40:12.440548Z",
     "iopub.status.idle": "2022-07-30T07:40:12.451287Z",
     "shell.execute_reply": "2022-07-30T07:40:12.450141Z",
     "shell.execute_reply.started": "2022-07-30T07:40:12.441275Z"
    }
   },
   "outputs": [
    {
     "data": {
      "text/plain": [
       "2.8722813232690143"
      ]
     },
     "execution_count": 39,
     "metadata": {},
     "output_type": "execute_result"
    }
   ],
   "source": [
    "np.std(array_2) # standard deviation"
   ]
  },
  {
   "cell_type": "code",
   "execution_count": 40,
   "metadata": {
    "execution": {
     "iopub.execute_input": "2022-07-30T07:40:12.453558Z",
     "iopub.status.busy": "2022-07-30T07:40:12.452907Z",
     "iopub.status.idle": "2022-07-30T07:40:12.461725Z",
     "shell.execute_reply": "2022-07-30T07:40:12.460774Z",
     "shell.execute_reply.started": "2022-07-30T07:40:12.453518Z"
    }
   },
   "outputs": [
    {
     "data": {
      "text/plain": [
       "array([[4, 2, 2, 1],\n",
       "       [1, 1, 4, 2],\n",
       "       [3, 2, 2, 1]])"
      ]
     },
     "execution_count": 40,
     "metadata": {},
     "output_type": "execute_result"
    }
   ],
   "source": [
    "arr1"
   ]
  },
  {
   "cell_type": "code",
   "execution_count": 41,
   "metadata": {
    "execution": {
     "iopub.execute_input": "2022-07-30T07:40:12.463878Z",
     "iopub.status.busy": "2022-07-30T07:40:12.463222Z",
     "iopub.status.idle": "2022-07-30T07:40:12.473584Z",
     "shell.execute_reply": "2022-07-30T07:40:12.472356Z",
     "shell.execute_reply.started": "2022-07-30T07:40:12.463837Z"
    }
   },
   "outputs": [
    {
     "name": "stdout",
     "output_type": "stream",
     "text": [
      "[8 5 8 4]\n",
      "[9 8 8]\n"
     ]
    }
   ],
   "source": [
    "print (np.sum(arr1, axis = 0)) # sum across the columns\n",
    "print (np.sum(arr1, axis = 1)) # sum across the rows"
   ]
  },
  {
   "cell_type": "code",
   "execution_count": 42,
   "metadata": {
    "execution": {
     "iopub.execute_input": "2022-07-30T07:40:12.476982Z",
     "iopub.status.busy": "2022-07-30T07:40:12.475453Z",
     "iopub.status.idle": "2022-07-30T07:40:12.484399Z",
     "shell.execute_reply": "2022-07-30T07:40:12.483079Z",
     "shell.execute_reply.started": "2022-07-30T07:40:12.476932Z"
    }
   },
   "outputs": [
    {
     "name": "stdout",
     "output_type": "stream",
     "text": [
      "[2.25 2.   2.  ]\n"
     ]
    }
   ],
   "source": [
    "print (np.mean(arr1, axis = 1)) # mean across the row"
   ]
  },
  {
   "cell_type": "markdown",
   "metadata": {},
   "source": [
    "---"
   ]
  },
  {
   "cell_type": "code",
   "execution_count": 43,
   "metadata": {
    "execution": {
     "iopub.execute_input": "2022-07-30T07:40:12.487207Z",
     "iopub.status.busy": "2022-07-30T07:40:12.485970Z",
     "iopub.status.idle": "2022-07-30T07:40:12.495336Z",
     "shell.execute_reply": "2022-07-30T07:40:12.494404Z",
     "shell.execute_reply.started": "2022-07-30T07:40:12.487162Z"
    }
   },
   "outputs": [
    {
     "data": {
      "text/plain": [
       "array([[4, 4, 2, 1, 3],\n",
       "       [1, 4, 4, 3, 1],\n",
       "       [2, 2, 1, 4, 2],\n",
       "       [3, 1, 3, 4, 4]])"
      ]
     },
     "execution_count": 43,
     "metadata": {},
     "output_type": "execute_result"
    }
   ],
   "source": [
    "arr2"
   ]
  },
  {
   "cell_type": "code",
   "execution_count": 44,
   "metadata": {
    "execution": {
     "iopub.execute_input": "2022-07-30T07:40:12.497893Z",
     "iopub.status.busy": "2022-07-30T07:40:12.497176Z",
     "iopub.status.idle": "2022-07-30T07:40:12.506462Z",
     "shell.execute_reply": "2022-07-30T07:40:12.505472Z",
     "shell.execute_reply.started": "2022-07-30T07:40:12.497848Z"
    }
   },
   "outputs": [
    {
     "data": {
      "text/plain": [
       "array([4, 4, 2, 1, 3, 1, 4, 4, 3, 1, 2, 2, 1, 4, 2, 3, 1, 3, 4, 4])"
      ]
     },
     "execution_count": 44,
     "metadata": {},
     "output_type": "execute_result"
    }
   ],
   "source": [
    "arr2.flatten()"
   ]
  },
  {
   "cell_type": "code",
   "execution_count": 45,
   "metadata": {
    "execution": {
     "iopub.execute_input": "2022-07-30T07:40:12.508985Z",
     "iopub.status.busy": "2022-07-30T07:40:12.508258Z",
     "iopub.status.idle": "2022-07-30T07:40:12.517730Z",
     "shell.execute_reply": "2022-07-30T07:40:12.516427Z",
     "shell.execute_reply.started": "2022-07-30T07:40:12.508940Z"
    }
   },
   "outputs": [
    {
     "data": {
      "text/plain": [
       "array([[4, 4],\n",
       "       [2, 1],\n",
       "       [3, 1],\n",
       "       [4, 4],\n",
       "       [3, 1],\n",
       "       [2, 2],\n",
       "       [1, 4],\n",
       "       [2, 3],\n",
       "       [1, 3],\n",
       "       [4, 4]])"
      ]
     },
     "execution_count": 45,
     "metadata": {},
     "output_type": "execute_result"
    }
   ],
   "source": [
    "arr2.reshape(10,2) # total number of elements should be exactly the same in both the arrays"
   ]
  },
  {
   "cell_type": "code",
   "execution_count": 46,
   "metadata": {
    "execution": {
     "iopub.status.busy": "2022-07-30T07:40:12.537720Z",
     "iopub.status.idle": "2022-07-30T07:40:12.538544Z",
     "shell.execute_reply": "2022-07-30T07:40:12.538369Z",
     "shell.execute_reply.started": "2022-07-30T07:40:12.538347Z"
    }
   },
   "outputs": [
    {
     "name": "stdout",
     "output_type": "stream",
     "text": [
      "[[4 1 2 3]\n",
      " [4 4 2 1]\n",
      " [2 4 1 3]\n",
      " [1 3 4 4]\n",
      " [3 1 2 4]]\n",
      "[[4 1 2 3]\n",
      " [4 4 2 1]\n",
      " [2 4 1 3]\n",
      " [1 3 4 4]\n",
      " [3 1 2 4]]\n"
     ]
    }
   ],
   "source": [
    "print (arr2.T) # returns the transpose of a matrix\n",
    "print (np.transpose(arr2)) # both are same"
   ]
  },
  {
   "cell_type": "code",
   "execution_count": 47,
   "metadata": {
    "execution": {
     "iopub.status.busy": "2022-07-30T07:40:12.539613Z",
     "iopub.status.idle": "2022-07-30T07:40:12.540055Z",
     "shell.execute_reply": "2022-07-30T07:40:12.539872Z",
     "shell.execute_reply.started": "2022-07-30T07:40:12.539852Z"
    }
   },
   "outputs": [
    {
     "name": "stdout",
     "output_type": "stream",
     "text": [
      "[[1 2]\n",
      " [3 4]]\n"
     ]
    }
   ],
   "source": [
    "a = np.array([[1,2], [3,4]])\n",
    "print (a)"
   ]
  },
  {
   "cell_type": "code",
   "execution_count": 48,
   "metadata": {
    "execution": {
     "iopub.status.busy": "2022-07-30T07:40:12.541975Z",
     "iopub.status.idle": "2022-07-30T07:40:12.542526Z",
     "shell.execute_reply": "2022-07-30T07:40:12.542366Z",
     "shell.execute_reply.started": "2022-07-30T07:40:12.542346Z"
    }
   },
   "outputs": [
    {
     "name": "stdout",
     "output_type": "stream",
     "text": [
      "[[5 6]\n",
      " [7 8]]\n"
     ]
    }
   ],
   "source": [
    "b = np.array([[5,6], [7,8]])\n",
    "print (b)"
   ]
  },
  {
   "cell_type": "code",
   "execution_count": 49,
   "metadata": {
    "execution": {
     "iopub.status.busy": "2022-07-30T07:40:12.543531Z",
     "iopub.status.idle": "2022-07-30T07:40:12.544112Z",
     "shell.execute_reply": "2022-07-30T07:40:12.543933Z",
     "shell.execute_reply.started": "2022-07-30T07:40:12.543912Z"
    }
   },
   "outputs": [
    {
     "name": "stdout",
     "output_type": "stream",
     "text": [
      "[[ 9 10]\n",
      " [11 12]]\n"
     ]
    }
   ],
   "source": [
    "c = np.array([[9,10], [11,12]])\n",
    "print (c)"
   ]
  },
  {
   "cell_type": "code",
   "execution_count": 50,
   "metadata": {
    "execution": {
     "iopub.status.busy": "2022-07-30T07:40:12.545084Z",
     "iopub.status.idle": "2022-07-30T07:40:12.545596Z",
     "shell.execute_reply": "2022-07-30T07:40:12.545438Z",
     "shell.execute_reply.started": "2022-07-30T07:40:12.545419Z"
    }
   },
   "outputs": [
    {
     "data": {
      "text/plain": [
       "array([[ 1,  2],\n",
       "       [ 3,  4],\n",
       "       [ 5,  6],\n",
       "       [ 7,  8],\n",
       "       [ 9, 10],\n",
       "       [11, 12]])"
      ]
     },
     "execution_count": 50,
     "metadata": {},
     "output_type": "execute_result"
    }
   ],
   "source": [
    "np.vstack((a,b,c)) # stacks all the arrays vertically"
   ]
  },
  {
   "cell_type": "code",
   "execution_count": 51,
   "metadata": {
    "execution": {
     "iopub.status.busy": "2022-07-30T07:40:12.546707Z",
     "iopub.status.idle": "2022-07-30T07:40:12.547270Z",
     "shell.execute_reply": "2022-07-30T07:40:12.547109Z",
     "shell.execute_reply.started": "2022-07-30T07:40:12.547089Z"
    }
   },
   "outputs": [
    {
     "data": {
      "text/plain": [
       "array([[ 1,  2,  5,  6,  9, 10],\n",
       "       [ 3,  4,  7,  8, 11, 12]])"
      ]
     },
     "execution_count": 51,
     "metadata": {},
     "output_type": "execute_result"
    }
   ],
   "source": [
    "np.hstack((a,b,c)) # stacks all the arrays horizontally"
   ]
  },
  {
   "cell_type": "markdown",
   "metadata": {},
   "source": [
    "---"
   ]
  },
  {
   "cell_type": "code",
   "execution_count": 52,
   "metadata": {
    "execution": {
     "iopub.status.busy": "2022-07-30T07:40:12.548243Z",
     "iopub.status.idle": "2022-07-30T07:40:12.548642Z",
     "shell.execute_reply": "2022-07-30T07:40:12.548471Z",
     "shell.execute_reply.started": "2022-07-30T07:40:12.548453Z"
    }
   },
   "outputs": [
    {
     "name": "stdout",
     "output_type": "stream",
     "text": [
      "[[2 9 5]\n",
      " [4 3 7]\n",
      " [2 5 7]]\n",
      "[[1 5 4]]\n"
     ]
    }
   ],
   "source": [
    "# broadcasting - helps to perform operations between arrays of different shapes\n",
    "a = np.random.randint(1, 10, (3,3))\n",
    "b = np.random.randint(1, 10, (1,3)) # atleast the row or column size has to be the same\n",
    "print (a)\n",
    "print (b)"
   ]
  },
  {
   "cell_type": "code",
   "execution_count": 53,
   "metadata": {
    "execution": {
     "iopub.status.busy": "2022-07-30T07:40:12.549852Z",
     "iopub.status.idle": "2022-07-30T07:40:12.550372Z",
     "shell.execute_reply": "2022-07-30T07:40:12.550216Z",
     "shell.execute_reply.started": "2022-07-30T07:40:12.550198Z"
    }
   },
   "outputs": [
    {
     "data": {
      "text/plain": [
       "array([[ 3, 14,  9],\n",
       "       [ 5,  8, 11],\n",
       "       [ 3, 10, 11]])"
      ]
     },
     "execution_count": 53,
     "metadata": {},
     "output_type": "execute_result"
    }
   ],
   "source": [
    "a + b\n",
    "# working:\n",
    "# the smaller array repeats itself over to match the shape of the bigger array\n",
    "# here, b becomes\n",
    "# b = [[5,4,1]\n",
    "#      [5,4,1]\n",
    "#      [5,4,1]] "
   ]
  }
 ],
 "metadata": {
  "kernelspec": {
   "display_name": "Python 3 (ipykernel)",
   "language": "python",
   "name": "python3"
  },
  "language_info": {
   "codemirror_mode": {
    "name": "ipython",
    "version": 3
   },
   "file_extension": ".py",
   "mimetype": "text/x-python",
   "name": "python",
   "nbconvert_exporter": "python",
   "pygments_lexer": "ipython3",
   "version": "3.9.12"
  }
 },
 "nbformat": 4,
 "nbformat_minor": 4
}
